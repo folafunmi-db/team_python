{
  "nbformat": 4,
  "nbformat_minor": 0,
  "metadata": {
    "colab": {
      "name": "user_recommendation.ipynb",
      "provenance": [],
      "collapsed_sections": []
    },
    "kernelspec": {
      "name": "python3",
      "display_name": "Python 3"
    }
  },
  "cells": [
    {
      "cell_type": "code",
      "metadata": {
        "colab_type": "code",
        "id": "pho-J4gneRWV",
        "colab": {
          "base_uri": "https://localhost:8080/",
          "height": 34
        },
        "outputId": "c9cc97eb-7107-4ee6-a898-f0bb35fb870d"
      },
      "source": [
        "from google.colab import drive\n",
        "drive.mount('/content/drive')"
      ],
      "execution_count": 34,
      "outputs": [
        {
          "output_type": "stream",
          "text": [
            "Drive already mounted at /content/drive; to attempt to forcibly remount, call drive.mount(\"/content/drive\", force_remount=True).\n"
          ],
          "name": "stdout"
        }
      ]
    },
    {
      "cell_type": "code",
      "metadata": {
        "colab_type": "code",
        "id": "F4fnqbaveRWK",
        "colab": {}
      },
      "source": [
        "#import libraries\n",
        "import pandas as pd\n",
        "from sklearn.feature_extraction.text import TfidfVectorizer\n",
        "from sklearn.metrics.pairwise import linear_kernel\n"
      ],
      "execution_count": 0,
      "outputs": []
    },
    {
      "cell_type": "code",
      "metadata": {
        "colab_type": "code",
        "id": "wjlv8pZKeQUD",
        "colab": {}
      },
      "source": [
        "#reading the csv file\n",
        "ds = pd.read_csv(\"/content/drive/My Drive/Colab Notebooks/users.csv\")\n",
        "#renaming the empty rows with space\n",
        "ds = ds.fillna(' ')\n",
        "\n",
        "#printing the rows under the short bio\n",
        "#print(ds['short_bio'])\n"
      ],
      "execution_count": 0,
      "outputs": []
    },
    {
      "cell_type": "code",
      "metadata": {
        "id": "QCzj1O0aa63E",
        "colab_type": "code",
        "colab": {
          "base_uri": "https://localhost:8080/",
          "height": 34
        },
        "outputId": "a0e6515e-3f6b-4fe3-8111-d092711ca389"
      },
      "source": [
        "#analyzing the words in the column and removing common stop words, calculating the cosine similarities\n",
        "tf = TfidfVectorizer(analyzer='word', ngram_range=(1, 3), min_df=0, stop_words='english')\n",
        "tfidf_matrix = tf.fit_transform(ds['short_bio'])\n",
        "\n",
        "cosine_similarities = linear_kernel(tfidf_matrix, tfidf_matrix)\n",
        "\n",
        "results = {}\n",
        "\n",
        "for idx, row in ds.iterrows():\n",
        "    similar_indices = cosine_similarities[idx].argsort()[:-100:-1]\n",
        "    similar_items = [(cosine_similarities[idx][i], ds['id'][i]) for i in similar_indices]\n",
        "\n",
        "    results[row['id']] = similar_items[1:]\n",
        "    \n",
        "print('done!')\n"
      ],
      "execution_count": 37,
      "outputs": [
        {
          "output_type": "stream",
          "text": [
            "done!\n"
          ],
          "name": "stdout"
        }
      ]
    },
    {
      "cell_type": "code",
      "metadata": {
        "id": "g94OZfp_HW9V",
        "colab_type": "code",
        "colab": {}
      },
      "source": [
        "def item(id):\n",
        "    return ds.loc[ds['id'] == id]['short_bio'].tolist()[0].split(' - ')[0]\n",
        "\n",
        "# a function that reads the results out of the column and the amount of results wanted.\n",
        "def recommend(item_id, num):\n",
        "    print(\"Recommending \" + str(num) + \" people similar to \" + item(item_id) + \"...\")\n",
        "    print(\"-------\")\n",
        "    recs = results[item_id][:num]\n",
        "    for rec in recs:\n",
        "        print(\"Recommended: \" + item(rec[1]) + \" (score:\" + str(rec[0]) + \")\")\n"
      ],
      "execution_count": 0,
      "outputs": []
    },
    {
      "cell_type": "code",
      "metadata": {
        "id": "DvIe1ihdHXAY",
        "colab_type": "code",
        "colab": {
          "base_uri": "https://localhost:8080/",
          "height": 391
        },
        "outputId": "8f71a649-3797-421c-ce77-2a11cc49e40a"
      },
      "source": [
        "#item_id is the number of the item in the column, num is te number of results to be displayed\n",
        "recommend(item_id=1, num=20)"
      ],
      "execution_count": 39,
      "outputs": [
        {
          "output_type": "stream",
          "text": [
            "Recommending 20 people similar to Software Developer | DevOPs Engineer...\n",
            "-------\n",
            "Recommended: | Software Developer | DevOps Engineer | @linuxjobber (score:0.8007892458336314)\n",
            "Recommended: Software Developer (score:0.35450369366562706)\n",
            "Recommended: Software developer (score:0.35450369366562706)\n",
            "Recommended: Software Developer (score:0.35450369366562706)\n",
            "Recommended: Software developer (score:0.35450369366562706)\n",
            "Recommended: Software Developer (score:0.35450369366562706)\n",
            "Recommended: Software Developer (score:0.35450369366562706)\n",
            "Recommended: Software Developer (score:0.35450369366562706)\n",
            "Recommended: Software developer (score:0.35450369366562706)\n",
            "Recommended: Software Developer (score:0.35450369366562706)\n",
            "Recommended: Am a software developer (score:0.35450369366562706)\n",
            "Recommended: Engineer (score:0.23517727221967094)\n",
            "Recommended: An engineer (score:0.23517727221967094)\n",
            "Recommended: Software Engineer (score:0.2327517123151251)\n",
            "Recommended: Software engineer (score:0.2327517123151251)\n",
            "Recommended: Software Engineer...Here and there (score:0.2327517123151251)\n",
            "Recommended: Software Engineer (score:0.2327517123151251)\n",
            "Recommended: Software Engineer (score:0.2327517123151251)\n",
            "Recommended: I'm a software and how do I engineer (score:0.2327517123151251)\n",
            "Recommended: Software Engineer (score:0.2327517123151251)\n"
          ],
          "name": "stdout"
        }
      ]
    }
  ]
}